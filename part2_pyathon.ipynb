{
 "cells": [
  {
   "cell_type": "markdown",
   "id": "40a63e35",
   "metadata": {},
   "source": [
    "### Python Function Definition"
   ]
  },
  {
   "cell_type": "code",
   "execution_count": 3,
   "id": "d2c9b2ee",
   "metadata": {
    "scrolled": true
   },
   "outputs": [
    {
     "data": {
      "text/plain": [
       "'ab'"
      ]
     },
     "execution_count": 3,
     "metadata": {},
     "output_type": "execute_result"
    }
   ],
   "source": [
    "def add(a,b):\n",
    "    c=a+b\n",
    "    return c\n",
    "\n",
    "add(1,2)\n",
    "add('a','b')"
   ]
  },
  {
   "cell_type": "code",
   "execution_count": 5,
   "id": "d3d2d53a",
   "metadata": {},
   "outputs": [
    {
     "data": {
      "text/plain": [
       "24"
      ]
     },
     "execution_count": 5,
     "metadata": {},
     "output_type": "execute_result"
    }
   ],
   "source": [
    "def add_many(*args):\n",
    "    total=0\n",
    "    for arg in args:\n",
    "        total=total+arg\n",
    "    return total\n",
    "\n",
    "add_many(1,2,3)\n",
    "add_many(4,5,6)\n",
    "add_many(7,8,9)"
   ]
  },
  {
   "cell_type": "code",
   "execution_count": 7,
   "id": "73456ddf",
   "metadata": {},
   "outputs": [
    {
     "name": "stdout",
     "output_type": "stream",
     "text": [
      "[7, 2, 3]\n",
      "[7, 2, 3]\n"
     ]
    }
   ],
   "source": [
    "def change_name(name):\n",
    "    name=\"Lee\"\n",
    "    return name\n",
    "\n",
    "def change_list(L):\n",
    "    L[0]=7\n",
    "    return L\n",
    "\n",
    "name=\"Kim\"\n",
    "change_name(name)\n",
    "\n",
    "L=[1,2,3]\n",
    "L2=change_list(L)\n",
    "print(L)\n",
    "print(L2)"
   ]
  },
  {
   "cell_type": "code",
   "execution_count": 16,
   "id": "f7a3419b",
   "metadata": {},
   "outputs": [
    {
     "name": "stdout",
     "output_type": "stream",
     "text": [
      "3.5\n",
      "[4, 3, 6, 2, 5, 1]\n"
     ]
    }
   ],
   "source": [
    "def find_median(L):\n",
    "    #L.sort()\n",
    "    L=sorted(L) # 정렬된 결과를 L에 복사\n",
    "    length=len(L)\n",
    "    if(length%2==0):\n",
    "        return (L[int(length/2)-1]+L[int(length/2)])/2\n",
    "    else:\n",
    "        return L[int(length/2)]\n",
    "\n",
    "L=[1,2,3,4,5]\n",
    "L2=[4,3,6,2,5,1]\n",
    "\n",
    "#L3=L.copy() #L은 바뀌지 않고 복사본으로 사용.\n",
    "\n",
    "\n",
    "print(find_median(L2))\n",
    "print(L2)"
   ]
  },
  {
   "cell_type": "code",
   "execution_count": null,
   "id": "80e49f03",
   "metadata": {},
   "outputs": [],
   "source": []
  }
 ],
 "metadata": {
  "kernelspec": {
   "display_name": "Python 3 (ipykernel)",
   "language": "python",
   "name": "python3"
  },
  "language_info": {
   "codemirror_mode": {
    "name": "ipython",
    "version": 3
   },
   "file_extension": ".py",
   "mimetype": "text/x-python",
   "name": "python",
   "nbconvert_exporter": "python",
   "pygments_lexer": "ipython3",
   "version": "3.9.13"
  }
 },
 "nbformat": 4,
 "nbformat_minor": 5
}
